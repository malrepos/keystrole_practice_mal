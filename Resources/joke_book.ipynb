{
 "cells": [
  {
   "cell_type": "code",
   "execution_count": null,
   "id": "e426b4b7-de26-44b1-8e49-e44d9a880d69",
   "metadata": {},
   "outputs": [
    {
     "name": "stdin",
     "output_type": "stream",
     "text": [
      "press Enter to begin\n",
      " \n"
     ]
    },
    {
     "name": "stdout",
     "output_type": "stream",
     "text": [
      "A horse walks into a bar.\n",
      "\"Hey\", the Bartender says.\n",
      "\"Sure\", the horse replies.\n",
      "\n"
     ]
    },
    {
     "name": "stdin",
     "output_type": "stream",
     "text": [
      "lets go\n",
      " \n"
     ]
    },
    {
     "name": "stdout",
     "output_type": "stream",
     "text": [
      "What do you call a pile of kittens?\n",
      "A meowntain.\n",
      "\n"
     ]
    }
   ],
   "source": [
    "import requests\n",
    "import json\n",
    "\n",
    "user_input = input(\"press Enter to begin\\n\")\n",
    "    \n",
    "#loop until input = quit\n",
    "while user_input != \"quit\":\n",
    "    \n",
    "    # Create variable to hold request url\n",
    "    url = 'https://v2.jokeapi.dev/joke/Any?blacklistFlags=religious,political,racist,sexist&type=single'\n",
    "    \n",
    "    # Add format specifier to request url\n",
    "    url = url + \"?format=json\"\n",
    "\n",
    "    # Execute get request\n",
    "    requests.get(url)\n",
    "\n",
    "    # Execute GET request and store response\n",
    "    response_data = requests.get(url)\n",
    "\n",
    "    # Get content\n",
    "    response_content = response_data.content\n",
    "\n",
    "    # Formatting as json\n",
    "    data = response_data.json()\n",
    "\n",
    "    # Add indents to JSON and output to screen\n",
    "    # print(json.dumps(data, indent=4))\n",
    "    \n",
    "    #\n",
    "    if data[\"type\"] == \"twopart\":\n",
    "        joke = data[\"setup\"] + \"\\n\" + data[\"delivery\"] + \"\\n\"\n",
    "    else:\n",
    "        joke = data[\"joke\"]  + \"\\n\"\n",
    "    print(joke)\n",
    "    \n",
    "    user_input = input(\"lets go\\n\")"
   ]
  },
  {
   "cell_type": "code",
   "execution_count": null,
   "id": "041e1b57-9b6c-45f8-ab8e-82b4ba393fef",
   "metadata": {},
   "outputs": [],
   "source": []
  },
  {
   "cell_type": "code",
   "execution_count": null,
   "id": "5ee7e276-32f1-4c93-b2c7-f954c871892a",
   "metadata": {},
   "outputs": [],
   "source": []
  }
 ],
 "metadata": {
  "kernelspec": {
   "display_name": "fintech",
   "language": "python",
   "name": "fintech"
  },
  "language_info": {
   "codemirror_mode": {
    "name": "ipython",
    "version": 3
   },
   "file_extension": ".py",
   "mimetype": "text/x-python",
   "name": "python",
   "nbconvert_exporter": "python",
   "pygments_lexer": "ipython3",
   "version": "3.7.13"
  }
 },
 "nbformat": 4,
 "nbformat_minor": 5
}
